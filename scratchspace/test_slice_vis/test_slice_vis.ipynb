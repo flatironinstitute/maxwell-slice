{
 "cells": [
  {
   "cell_type": "code",
   "execution_count": null,
   "metadata": {},
   "outputs": [],
   "source": [
    "import maxwell_slice as ms\n",
    "import numpy as np\n",
    "import matplotlib.pyplot as plt\n",
    "plt.rcParams['figure.figsize'] = (10, 8)"
   ]
  },
  {
   "cell_type": "code",
   "execution_count": null,
   "metadata": {},
   "outputs": [],
   "source": [
    "nnx=80; nny=80; nnz=20;\n",
    "data, field = ms.sphere_scat(nnx, nny, nnz)\n",
    "print(data.shape)\n",
    "print(field.shape)"
   ]
  },
  {
   "cell_type": "code",
   "execution_count": null,
   "metadata": {},
   "outputs": [],
   "source": [
    "\n",
    "V = np.abs(field[0,:,:,:])\n",
    "\n",
    "# Show three slices\n",
    "fig, ax = plt.subplots(1, 3, figsize=(15, 10))\n",
    "vrange = [np.min(V), np.max(V)]\n",
    "\n",
    "ax[0].imshow(V[:, :, 5], cmap='gray', vmin=vrange[0], vmax=vrange[1]);\n",
    "ax[1].imshow(V[:, :, 10], cmap='gray', vmin=vrange[0], vmax=vrange[1]);\n",
    "ax[2].imshow(V[:, :, 15], cmap='gray', vmin=vrange[0], vmax=vrange[1]);\n",
    "\n",
    "# Remove axis ticks and labels\n",
    "for i in range(3): ax[i].axis('off');"
   ]
  },
  {
   "cell_type": "code",
   "execution_count": null,
   "metadata": {},
   "outputs": [],
   "source": []
  }
 ],
 "metadata": {
  "kernelspec": {
   "display_name": "Python 3",
   "language": "python",
   "name": "python3"
  },
  "language_info": {
   "codemirror_mode": {
    "name": "ipython",
    "version": 3
   },
   "file_extension": ".py",
   "mimetype": "text/x-python",
   "name": "python",
   "nbconvert_exporter": "python",
   "pygments_lexer": "ipython3",
   "version": "3.8.5"
  }
 },
 "nbformat": 4,
 "nbformat_minor": 4
}
